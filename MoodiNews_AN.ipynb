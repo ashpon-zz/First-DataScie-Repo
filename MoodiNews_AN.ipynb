{
 "cells": [
  {
   "cell_type": "code",
   "execution_count": null,
   "metadata": {
    "collapsed": true
   },
   "outputs": [],
   "source": [
    "# Dependencies\n",
    "import tweepy \n",
    "import json\n",
    "import numpy as np\n",
    "import pandas as pd\n",
    "import matplotlib.pyplot as plot\n",
    "from datetime import datetime\n",
    "\n",
    "# Import and Initialize Sentiment Analyzer\n",
    "from vaderSentiment.vaderSentiment import SentimentIntensityAnalyzer\n",
    "analyzer = SentimentIntensityAnalyzer()"
   ]
  },
  {
   "cell_type": "code",
   "execution_count": null,
   "metadata": {
    "collapsed": true
   },
   "outputs": [],
   "source": [
    "\n",
    "# Twitter API Credentials\n",
    "consumer_key = \"nvw0aFUEiWC4uAxzXylujbai8\"\n",
    "consumer_secret = \"9nooHblTgmaDU64wGxLs2bfw9lG6zj8qZvxzeHDGvLIZoUB2mB\"\n",
    "access_token = \"40598976-5WYNZ8hYe0Le9gqFfKyScapq9v1MsxtY9JbEjlsxp\"\n",
    "access_token_secret = \"JRWbqPLCjkvNd55NSTRR8NaHTdCIayQauUO5pAIMaQ3EU\"\n",
    "\n",
    "#Authenticate\n",
    "auth = tweepy.OAuthHandler(consumer_key, consumer_secret)\n",
    "auth.set_access_token(access_token, access_token_secret)\n",
    "api = tweepy.API(auth, parser=tweepy.parsers.JSONParser())"
   ]
  },
  {
   "cell_type": "code",
   "execution_count": null,
   "metadata": {
    "collapsed": true
   },
   "outputs": [],
   "source": [
    "# Setup Vars\n",
    "# get the favorite Users' Tweets\n",
    "tUserList  = [\"BBCNews\",\"CNN\",\"FoxNews\",\"nytimes\",\"CBS\"]\n",
    "# tUser = \"ashish nachane\"\n",
    "\n",
    "# Real Person Filter \n",
    "minTweets = 5\n",
    "maxTweets = 10000\n",
    "maxFollowing = 2500\n",
    "maxFollowers = 2500\n",
    "lang = 'en'\n",
    "\n",
    "# tUser = \"ashish nachane\"\n",
    "userLst=[]\n",
    "compLst=[]\n",
    "posLst=[]\n",
    "neuLst =[]\n",
    "negLst=[]\n",
    "timeLst=[]\n",
    "allNews=[]\n",
    "\n",
    "# declare the mean variables\n",
    "posMean = 0.0\n",
    "neuMean = 0.0\n",
    "negMean = 0.0\n",
    "compMean = 0.0\n",
    "newsDf = pd.DataFrame()\n",
    "allNewsLinesDf = pd.DataFrame()"
   ]
  },
  {
   "cell_type": "code",
   "execution_count": null,
   "metadata": {},
   "outputs": [],
   "source": [
    "# Main Block\n",
    "\n",
    "# Get all tweets from home feed\n",
    "for tUser in tUserList:\n",
    "    userLst=[]\n",
    "    compLst=[]\n",
    "    posLst=[]\n",
    "    neuLst =[]\n",
    "    negLst=[]\n",
    "    timeLst=[]\n",
    "    # public_tweets = api.user_timeline(tUer)\n",
    "    print(\"Processing for: \", tUser)\n",
    "\n",
    "    #llop through ATLEAST 100 tweets maybe 200 is better?\n",
    "    for x in range(5):\n",
    "\n",
    "        my_tweets = api.user_timeline(tUser)\n",
    "\n",
    "        for tweet in my_tweets:\n",
    "            # print(json.dumps(tweet, sort_keys=True, indent=4, separators=(',', ': ')))\n",
    "            txt = tweet['text']\n",
    "            # get the tweet Sentiment\n",
    "            try:\n",
    "                # print(txt)\n",
    "                # compound = analyzer.polarity_scores(txt)\n",
    "                # print(compound)\n",
    "                tweetTime = datetime.strptime(tweet[\"created_at\"], \"%a %b %d %H:%M:%S %z %Y\")\n",
    "                compound = analyzer.polarity_scores(txt)[\"compound\"]\n",
    "                pos = analyzer.polarity_scores(txt)[\"pos\"]\n",
    "                neu = analyzer.polarity_scores(txt)[\"neu\"]\n",
    "                neg = analyzer.polarity_scores(txt)[\"neg\"]\n",
    "                timeLst.append(tweetTime)\n",
    "                userLst.append(tUser)\n",
    "                compLst.append(compound)\n",
    "                posLst.append(pos)\n",
    "                neuLst.append(neu)\n",
    "                negLst.append(neg)\n",
    "                # create list to hold all tweets for the news channel\n",
    "                print(\"Adding to allNews for:\" + tUser)\n",
    "                allNews.append((tUser, txt, tweetTime, 0 , compound, pos,neu,neg))\n",
    "            except:\n",
    "                print(\"Dang it something went wrong: \", tUser)\n",
    "           \n",
    "    #Create dataframe to hold the details \n",
    "    allNewsLinesDf = pd.DataFrame(allNews, columns=[\"News Site\", \"Tweet\", \"Time\",\"Past Tweets\", \n",
    "                                                    \"Compound\",\"Positive\",\"Neutral\",\"Negative\"])\n",
    "\n",
    "    # create dataframe to hold all summary\n",
    "    airSenti = {\"News Site\": tUser,  \"Compound\": np.mean(compLst), \"Positives\": np.mean(posLst), \n",
    "                \"Negatives\": np.mean(negLst),\"Neutrsls\": np.mean(neuLst), \n",
    "                \"Score\": ((np.mean(compLst)+np.mean(posLst)+np.mean(negLst)+np.mean(neuLst))/4)\n",
    "                }\n",
    "    newsDf = newsDf.append(airSenti, ignore_index=True)"
   ]
  },
  {
   "cell_type": "code",
   "execution_count": null,
   "metadata": {},
   "outputs": [],
   "source": [
    "allNewsLinesDf.head()"
   ]
  },
  {
   "cell_type": "code",
   "execution_count": null,
   "metadata": {
    "scrolled": true
   },
   "outputs": [],
   "source": [
    "allNewsLinesDf = allNewsLinesDf.sort_values([\"News Site\",\"Time\"],ascending =False)\n",
    "# allNewsLinesDf[\"Past Tweets\"] = allNewsLinesDf.groupby([\"News Site\",\"Time\"]).rank(ascending=True)\n",
    "\n",
    "aSite=\"\"\n",
    "for index,row in allNewsLinesDf.iterrows():\n",
    "#     print (\"Data IS: \" + row[\"News Site\"])\n",
    "#     print (\"Starting with: \" + aSite)\n",
    "#     print(row[\"News Site\"] ==aSite)\n",
    "#     aSite = row[\"News Site\"]\n",
    "    if (row[\"News Site\"] != aSite):\n",
    "        ctr = 1\n",
    "        aSite = row[\"News Site\"]\n",
    "        allNewsLinesDf.set_value(index, \"Past Tweets\",ctr)\n",
    "#         ctr += 1\n",
    "    else:\n",
    "        ctr += 1\n",
    "        allNewsLinesDf.set_value(index, \"Past Tweets\",ctr)\n",
    "        \n",
    "# allNewsLinesDf"
   ]
  },
  {
   "cell_type": "code",
   "execution_count": null,
   "metadata": {},
   "outputs": [],
   "source": [
    "# Plot the Moods bar\n",
    "x_axis = allNewsLinesDf.loc[allNewsLinesDf[\"News Site\"] == \"nytimes\"][\"Past Tweets\"]\n",
    "y_axis = allNewsLinesDf.loc[allNewsLinesDf[\"News Site\"] == \"nytimes\"][\"Compound\"]\n",
    "plot.scatter(x_axis, y_axis, color='gold', alpha=0.80, label=\"NYT\")\n",
    "x_axis = allNewsLinesDf.loc[allNewsLinesDf[\"News Site\"] == \"BBCNews\"][\"Past Tweets\"]\n",
    "y_axis = allNewsLinesDf.loc[allNewsLinesDf[\"News Site\"] == \"BBCNews\"][\"Compound\"]\n",
    "plot.scatter(x_axis, y_axis, color='c',alpha=0.80,label=\"BBC\")\n",
    "x_axis = allNewsLinesDf.loc[allNewsLinesDf[\"News Site\"] == \"CNN\"][\"Past Tweets\"]\n",
    "y_axis = allNewsLinesDf.loc[allNewsLinesDf[\"News Site\"] == \"CNN\"][\"Compound\"]\n",
    "plot.scatter(x_axis, y_axis, color='g', alpha=0.80,label=\"CNN\")\n",
    "x_axis = allNewsLinesDf.loc[allNewsLinesDf[\"News Site\"] == \"FoxNews\"][\"Past Tweets\"]\n",
    "y_axis = allNewsLinesDf.loc[allNewsLinesDf[\"News Site\"] == \"FoxNews\"][\"Compound\"]\n",
    "plot.scatter(x_axis, y_axis, color='r',alpha=0.80, label=\"FOX\")\n",
    "x_axis = allNewsLinesDf.loc[allNewsLinesDf[\"News Site\"] == \"CBS\"][\"Past Tweets\"]\n",
    "y_axis = allNewsLinesDf.loc[allNewsLinesDf[\"News Site\"] == \"CBS\"][\"Compound\"]\n",
    "plot.scatter(x_axis, y_axis, color='black',alpha=0.80, label=\"CBS\")\n",
    "plot.xlabel(\"Tweets\")\n",
    "plot.ylabel(\"Polarity\")\n",
    "plot.legend(loc=\"best\")\n",
    "plot.show()"
   ]
  },
  {
   "cell_type": "code",
   "execution_count": null,
   "metadata": {},
   "outputs": [],
   "source": [
    "# Scatter Plot the \n",
    "x_axis = np.arange(len(newsDf))\n",
    "y_axis = newsDf[\"Compound\"]\n",
    "colors = ['c','g','r','gold','black']\n",
    "plot.bar(x_axis, y_axis, color=colors, alpha=0.5, align=\"edge\")\n",
    "# Tell matplotlib where we would like to place each of our x axis headers\n",
    "tick_locations = [value+0.4 for value in x_axis]\n",
    "plot.xticks(tick_locations, [\"BBC\", \"CNN\", \"Fox\", \"NYT\", \"CBS\"])\n",
    "# Give our chart some labels and a tile\n",
    "plot.title(\"Overal Media Sentiment on Twitter\")\n",
    "plot.xlabel(\"Media Outlets \")\n",
    "plot.ylabel(\"Polarity\")\n",
    "plot.show()"
   ]
  },
  {
   "cell_type": "code",
   "execution_count": null,
   "metadata": {
    "collapsed": true
   },
   "outputs": [],
   "source": []
  }
 ],
 "metadata": {
  "kernelspec": {
   "display_name": "Python [conda env:PythonData]",
   "language": "python",
   "name": "conda-env-PythonData-py"
  },
  "language_info": {
   "codemirror_mode": {
    "name": "ipython",
    "version": 3
   },
   "file_extension": ".py",
   "mimetype": "text/x-python",
   "name": "python",
   "nbconvert_exporter": "python",
   "pygments_lexer": "ipython3",
   "version": "3.6.1"
  }
 },
 "nbformat": 4,
 "nbformat_minor": 2
}
