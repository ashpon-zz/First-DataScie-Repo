{
 "cells": [
  {
   "cell_type": "code",
   "execution_count": 95,
   "metadata": {
    "collapsed": true
   },
   "outputs": [],
   "source": [
    "# import what we need\n",
    "import pandas as pd\n",
    "import numpy as np\n",
    "import json  as js"
   ]
  },
  {
   "cell_type": "code",
   "execution_count": 96,
   "metadata": {
    "collapsed": true
   },
   "outputs": [],
   "source": [
    "# read json file \n",
    "fName = ('./Resources/purchase_data.json')\n",
    "# Read with pandas\n",
    "df = pd.read_json(fName)"
   ]
  },
  {
   "cell_type": "code",
   "execution_count": 97,
   "metadata": {},
   "outputs": [
    {
     "data": {
      "text/html": [
       "<div>\n",
       "<style>\n",
       "    .dataframe thead tr:only-child th {\n",
       "        text-align: right;\n",
       "    }\n",
       "\n",
       "    .dataframe thead th {\n",
       "        text-align: left;\n",
       "    }\n",
       "\n",
       "    .dataframe tbody tr th {\n",
       "        vertical-align: top;\n",
       "    }\n",
       "</style>\n",
       "<table border=\"1\" class=\"dataframe\">\n",
       "  <thead>\n",
       "    <tr style=\"text-align: right;\">\n",
       "      <th></th>\n",
       "      <th>Age</th>\n",
       "      <th>Gender</th>\n",
       "      <th>Item ID</th>\n",
       "      <th>Item Name</th>\n",
       "      <th>Price</th>\n",
       "      <th>SN</th>\n",
       "    </tr>\n",
       "  </thead>\n",
       "  <tbody>\n",
       "    <tr>\n",
       "      <th>0</th>\n",
       "      <td>38</td>\n",
       "      <td>Male</td>\n",
       "      <td>165</td>\n",
       "      <td>Bone Crushing Silver Skewer</td>\n",
       "      <td>3.37</td>\n",
       "      <td>Aelalis34</td>\n",
       "    </tr>\n",
       "    <tr>\n",
       "      <th>1</th>\n",
       "      <td>21</td>\n",
       "      <td>Male</td>\n",
       "      <td>119</td>\n",
       "      <td>Stormbringer, Dark Blade of Ending Misery</td>\n",
       "      <td>2.32</td>\n",
       "      <td>Eolo46</td>\n",
       "    </tr>\n",
       "    <tr>\n",
       "      <th>2</th>\n",
       "      <td>34</td>\n",
       "      <td>Male</td>\n",
       "      <td>174</td>\n",
       "      <td>Primitive Blade</td>\n",
       "      <td>2.46</td>\n",
       "      <td>Assastnya25</td>\n",
       "    </tr>\n",
       "    <tr>\n",
       "      <th>3</th>\n",
       "      <td>21</td>\n",
       "      <td>Male</td>\n",
       "      <td>92</td>\n",
       "      <td>Final Critic</td>\n",
       "      <td>1.36</td>\n",
       "      <td>Pheusrical25</td>\n",
       "    </tr>\n",
       "    <tr>\n",
       "      <th>4</th>\n",
       "      <td>23</td>\n",
       "      <td>Male</td>\n",
       "      <td>63</td>\n",
       "      <td>Stormfury Mace</td>\n",
       "      <td>1.27</td>\n",
       "      <td>Aela59</td>\n",
       "    </tr>\n",
       "  </tbody>\n",
       "</table>\n",
       "</div>"
      ],
      "text/plain": [
       "   Age Gender  Item ID                                  Item Name  Price  \\\n",
       "0   38   Male      165                Bone Crushing Silver Skewer   3.37   \n",
       "1   21   Male      119  Stormbringer, Dark Blade of Ending Misery   2.32   \n",
       "2   34   Male      174                            Primitive Blade   2.46   \n",
       "3   21   Male       92                               Final Critic   1.36   \n",
       "4   23   Male       63                             Stormfury Mace   1.27   \n",
       "\n",
       "             SN  \n",
       "0     Aelalis34  \n",
       "1        Eolo46  \n",
       "2   Assastnya25  \n",
       "3  Pheusrical25  \n",
       "4        Aela59  "
      ]
     },
     "execution_count": 97,
     "metadata": {},
     "output_type": "execute_result"
    }
   ],
   "source": [
    "# get file details - uncomment as required\n",
    "df.head(5)"
   ]
  },
  {
   "cell_type": "markdown",
   "metadata": {},
   "source": [
    "# Player Count"
   ]
  },
  {
   "cell_type": "code",
   "execution_count": 98,
   "metadata": {},
   "outputs": [
    {
     "data": {
      "text/plain": [
       "573"
      ]
     },
     "execution_count": 98,
     "metadata": {},
     "output_type": "execute_result"
    }
   ],
   "source": [
    "# get total number of players\n",
    "# df[\"SN\"].value_counts() \n",
    "# 573\n",
    "totPlayers = len(df.groupby([\"SN\"]).sum())\n",
    "totPlayers\n",
    "# 573"
   ]
  },
  {
   "cell_type": "markdown",
   "metadata": {},
   "source": [
    "# Purchasing Analysis (Total)"
   ]
  },
  {
   "cell_type": "code",
   "execution_count": 99,
   "metadata": {},
   "outputs": [
    {
     "name": "stdout",
     "output_type": "stream",
     "text": [
      "Total Number of Items    Average Purchase Price  Total Purchases  Total Revenue\n",
      "--------------------------------------------------------------------------------------------\n",
      "                   183                     2.93              780        2286.33\n",
      "--------------------------------------------------------------------------------------------\n"
     ]
    }
   ],
   "source": [
    "# Purchase analysis \n",
    "# Number of unique items - revisit this?\n",
    "# df[\"Item ID\"].value_counts() \n",
    "# 183\n",
    "numItems = len((df.groupby(\"Item ID\").count()))\n",
    "numItems\n",
    "# 183\n",
    "# np.unique(df[\"Item ID\"])\n",
    "# Purchase analysis \n",
    "# Average Purchase Prise\n",
    "avgPrise = round((df[\"Price\"].mean()), 2)\n",
    "avgPrise\n",
    "#2.93\n",
    "# Purchase analysis\n",
    "# Total Number of Purchases\n",
    "totPurch = df[\"Item ID\"].count()\n",
    "totPurch\n",
    "# Purchase analysis\n",
    "# Total Revenue\n",
    "totRev = round(df[\"Price\"].sum(), 2)\n",
    "totRev\n",
    "print(\"Total Number of Items    \" + \"Average Purchase Price  \" + \"Total Purchases  \" + \"Total Revenue\")\n",
    "print(\"--------------------------------------------------------------------------------------------\")\n",
    "print(\"                   \"+ str(numItems) + \"                     \" + str(avgPrise)  + \"              \" \n",
    "      + str(totPurch) + \"        \" + str(totRev))\n",
    "print(\"--------------------------------------------------------------------------------------------\")"
   ]
  },
  {
   "cell_type": "markdown",
   "metadata": {},
   "source": [
    "# Gender Demographics"
   ]
  },
  {
   "cell_type": "code",
   "execution_count": 100,
   "metadata": {},
   "outputs": [
    {
     "name": "stdout",
     "output_type": "stream",
     "text": [
      "Male Count    Male Percentage     Female Count     Female Percentage     Other Count     Other Percentage  \n",
      "-------------------------------------------------------------------------------------------------------------------------------\n",
      "       633              81.15              136                 17.44               11                 1.41\n",
      "-------------------------------------------------------------------------------------------------------------------------------\n"
     ]
    }
   ],
   "source": [
    "## Gender Demographics\n",
    "# percentage & Count of Male Players\n",
    "maleCount = (df[\"Gender\"] == \"Male\").sum()\n",
    "malePerc = round((maleCount / totPurch) * 100, 2)\n",
    "## Gender Demographics\n",
    "# percentage & Count of female Players\n",
    "femaleCount = (df[\"Gender\"] == \"Female\").sum()\n",
    "femalePerc = round((femaleCount / totPurch) * 100, 2)\n",
    "## Gender Demographics\n",
    "# percentage & Count of Other non-disclosed Players\n",
    "otherCount = ((df[\"Gender\"] != \"Female\") & (df[\"Gender\"] != \"Male\")).sum()\n",
    "otherPerc = round((otherCount / totPurch) * 100, 2)\n",
    "print (\"Male Count    \" + \"Male Percentage     \" + \"Female Count     \"+ \"Female Percentage     \"+ \"Other Count     \" + \"Other Percentage  \")\n",
    "print (\"-------------------------------------------------------------------------------------------------------------------------------\")\n",
    "print (\"      \", maleCount,\"            \", malePerc, \"            \", femaleCount,\"               \", \n",
    "       femalePerc,\"             \", otherCount, \"               \",otherPerc)\n",
    "print (\"-------------------------------------------------------------------------------------------------------------------------------\")"
   ]
  },
  {
   "cell_type": "markdown",
   "metadata": {},
   "source": [
    "# Purchasing Analysis by Gender"
   ]
  },
  {
   "cell_type": "code",
   "execution_count": 101,
   "metadata": {},
   "outputs": [
    {
     "name": "stdout",
     "output_type": "stream",
     "text": [
      "Avg Price - Male    Avg Price - Female    Avg Price - Other  Total Value - Male   Total Value - Female   Total Value - Other\n",
      "----------------------------------------------------------------------------------------------------------------------------\n",
      "            2.95                  2.82                 3.25             1867.68                  382.91                 35.74\n",
      "----------------------------------------------------------------------------------------------------------------------------\n"
     ]
    }
   ],
   "source": [
    "# Purchasing Analysis Gender \n",
    "# create gender specific dataframes\n",
    "maleOnly = df[df[\"Gender\"] == \"Male\"]\n",
    "femaleOnly = df[df[\"Gender\"] == \"Female\"]\n",
    "otherGender = df[(df[\"Gender\"] != \"Female\") & (df[\"Gender\"] != \"Male\")]\n",
    "# Purchasing Analysis Gender \n",
    "# average purchase price by gender\n",
    "avgMalePrice = 0.00\n",
    "avgFemMalePrice = 0.00\n",
    "avgOtherPrice = 0.00\n",
    "avgMalePrice = round((maleOnly[\"Price\"].sum()/maleOnly[\"Price\"].count()), 2)\n",
    "avgFemMalePrice = round((femaleOnly[\"Price\"].sum()/femaleOnly[\"Price\"].count()), 2)\n",
    "avgOtherPrice = round((otherGender[\"Price\"].sum()/otherGender[\"Price\"].count()), 2)\n",
    "# Purchasing Analysis Gender \n",
    "# Total Purchase Value by gender\n",
    "totMaleValue   = round((maleOnly[\"Price\"].sum()), 2)\n",
    "totfemaleValue = round((femaleOnly[\"Price\"].sum()), 2)\n",
    "totOtherValue  = round((otherGender[\"Price\"].sum()), 2)\n",
    "print (\"Avg Price - Male    \" + \"Avg Price - Female    \" + \"Avg Price - Other \" + \n",
    "       \" Total Value - Male   \" + \"Total Value - Female   \" + \"Total Value - Other\")\n",
    "print (\"----------------------------------------------------------------------------------------------------------------------------\")\n",
    "print (\"           \", avgMalePrice,\"                \" ,avgFemMalePrice,\"               \" ,avgOtherPrice, \"           \",\n",
    "      totMaleValue,\"                \",totfemaleValue,\"               \", totOtherValue )\n",
    "print (\"----------------------------------------------------------------------------------------------------------------------------\")"
   ]
  },
  {
   "cell_type": "code",
   "execution_count": 102,
   "metadata": {
    "collapsed": true
   },
   "outputs": [],
   "source": [
    "# Purchasing Analysis Gender \n",
    "# Normalized Totals ? \n",
    "# --- Need to create a dataframe for Purchasing Analysis by Gender -----"
   ]
  },
  {
   "cell_type": "markdown",
   "metadata": {},
   "source": [
    "# Age demographics"
   ]
  },
  {
   "cell_type": "code",
   "execution_count": 103,
   "metadata": {},
   "outputs": [],
   "source": [
    "# create age bands / cohorts\n",
    "# df[\"Age\"].min() -- 7\n",
    "# df[\"Age].max() -- 45\n",
    "tenBelow       = df[df[\"Age\"] <10]\n",
    "ten2Fifteen    = df[(df[\"Age\"] >= 10) & (df[\"Age\"] < 15)]\n",
    "fifteen2Twenty = df[(df[\"Age\"] >= 15) & (df[\"Age\"] < 20)]\n",
    "twenty2Twenty5 = df[(df[\"Age\"] >= 20) & (df[\"Age\"] < 25)]\n",
    "twenty52Thirty = df[(df[\"Age\"] >= 25) & (df[\"Age\"] < 30)]\n",
    "thirty2Thirty5 = df[(df[\"Age\"] >= 30) & (df[\"Age\"] < 35)]\n",
    "thirty52Fourty = df[(df[\"Age\"] >= 35) & (df[\"Age\"] < 40)]\n",
    "foutryPlus     = df[df[\"Age\"] >= 40 ]\n",
    "# get counts by Age Bands can either use len(tenBelow) or tenBelow[\"].count()\n",
    "tenBelowCount       = tenBelow[\"Age\"].count() \n",
    "ten2FifteenCount    = ten2Fifteen[\"Age\"].count() \n",
    "fifteen2TwentyCount = fifteen2Twenty[\"Age\"].count() \n",
    "twenty2Twenty5Count = twenty2Twenty5[\"Age\"].count() \n",
    "twenty52ThirtyCount = twenty52Thirty[\"Age\"].count()\n",
    "thirty2Thirty5Count = thirty2Thirty5[\"Age\"].count() \n",
    "thirty52FourtyCount = thirty52Fourty[\"Age\"].count()\n",
    "foutryPlusCount     = foutryPlus[\"Age\"].count() \n",
    "# Total Purchase Value by Age Bands\n",
    "tenBelowTotPurch       = round((tenBelow[\"Price\"].sum()),2)\n",
    "ten2FifteenTotPurch    = round((ten2Fifteen[\"Price\"].sum()),2)\n",
    "fifteen2TwentyTotPurch = round((fifteen2Twenty[\"Price\"].sum()),2)\n",
    "twenty2Twenty5TotPurch = round((twenty2Twenty5[\"Price\"].sum()),2)\n",
    "twenty52ThirtyTotPurch = round((twenty2Twenty5[\"Price\"].sum()),2)\n",
    "thirty2Thirty5TotPurch = round((thirty2Thirty5[\"Price\"].sum()),2)\n",
    "thirty52FourtyTotPurch = round((thirty52Fourty[\"Price\"].sum()),2) \n",
    "foutryPlusTotPurch     = round((foutryPlus[\"Price\"].sum()),2) \n",
    "# Average Purchase Value by Age Bands\n",
    "tenBelowAvgPurch       = round(tenBelowTotPurch / tenBelowCount,2)\n",
    "ten2FifteenAvgPurch    = round(ten2FifteenTotPurch / ten2FifteenCount,2)\n",
    "fifteen2TwentyAvgPurch = round(fifteen2TwentyTotPurch / fifteen2TwentyCount,2)\n",
    "twenty2Twenty5AvgPurch = round(twenty2Twenty5TotPurch / twenty2Twenty5Count,2)\n",
    "twenty52ThirtyAvgPurch = round(twenty52ThirtyTotPurch / twenty52ThirtyCount,2)\n",
    "thirty2Thirty5AvgPurch = round(thirty2Thirty5TotPurch/ thirty2Thirty5Count,2)\n",
    "thirty52FourtyAvgPurch = round(thirty52FourtyTotPurch/ thirty52FourtyCount,2) \n",
    "foutryPlusAvgPurch     = round(foutryPlusTotPurch/ foutryPlusCount,2) \n",
    "# Normalized Totals - Total REvenue / group counts \n",
    "tenBelowNormRev       = round((totRev / tenBelowCount), 2)\n",
    "ten2FifteenNormRev    = round((totRev / ten2FifteenCount), 2)\n",
    "fifteen2TwentyNormRev = round((totRev / fifteen2TwentyCount), 2)\n",
    "twenty2Twenty5NormRev = round((totRev / twenty2Twenty5Count), 2)\n",
    "twenty52ThirtyNormRev = round((totRev / twenty52ThirtyCount), 2)\n",
    "thirty2Thirty5NormRev = round((totRev / thirty2Thirty5Count), 2)\n",
    "thirty52FourtyNormRev = round((totRev / thirty52FourtyCount), 2)\n",
    "foutryPlusNormRev     = round((totRev / foutryPlusCount), 2)"
   ]
  },
  {
   "cell_type": "markdown",
   "metadata": {},
   "source": [
    "## \"Purchase Count by Age Groups\""
   ]
  },
  {
   "cell_type": "code",
   "execution_count": 104,
   "metadata": {},
   "outputs": [
    {
     "name": "stdout",
     "output_type": "stream",
     "text": [
      "===================================================================================================================\n",
      "Below 10      10 to 15    15 to 20     20 to 25     25 to 30     30 to 35     35 to 40    Above 40 \n",
      "      28            35         133          336          125           64           42          17\n",
      "===================================================================================================================\n"
     ]
    }
   ],
   "source": [
    "print(\"===================================================================================================================\")\n",
    "print(\"Below 10    \",\" 10 to 15 \",\"  15 to 20  \", \"  20 to 25  \", \"  25 to 30  \" , \"  30 to 35  \", \"  35 to 40  \", \" Above 40 \")\n",
    "print(\"     \", tenBelowCount,\"          \",ten2FifteenCount,\"       \", fifteen2TwentyCount,\"        \",twenty2Twenty5Count,\n",
    "      \"        \", twenty52ThirtyCount,\"         \", thirty2Thirty5Count, \"         \", thirty52FourtyCount, \"        \", foutryPlusCount)\n",
    "print(\"===================================================================================================================\")"
   ]
  },
  {
   "cell_type": "code",
   "execution_count": 105,
   "metadata": {
    "collapsed": true
   },
   "outputs": [],
   "source": [
    "# Top Spenders\n",
    "#Identify the the top 5 spenders in the game by total purchase value, then list (in a table):\n",
    "#SN\n",
    "#Purchase Count\n",
    "#Average Purchase Price\n",
    "#Total Purchase Value\n",
    "df2 = df[[\"SN\",\"Price\"]]\n",
    "df2.insert(2,'Purch Cnt',1)\n",
    "top5Spenders = ((df2.groupby(\"SN\",as_index=True, sort=True, group_keys=True).sum().reset_index()).sort_values([\"Price\"],ascending=False)).head(5)\n",
    "totalTopSpending = top5Spenders[\"Price\"].sum()\n",
    "top5Spenders.insert(3,'Total Purchase Value', (top5Spenders[\"Price\"]*top5Spenders[\"Purch Cnt\"]))\n",
    "top5Spenders.insert(4, \"Average Purchase\", round((totalTopSpending/top5Spenders[\"Purch Cnt\"]),2))"
   ]
  },
  {
   "cell_type": "markdown",
   "metadata": {},
   "source": [
    "# Top 5 Spenders"
   ]
  },
  {
   "cell_type": "code",
   "execution_count": 106,
   "metadata": {
    "scrolled": true
   },
   "outputs": [
    {
     "name": "stdout",
     "output_type": "stream",
     "text": [
      "         SN  Price  Purch Cnt  Total Purchase Value  Average Purchase\n",
      "Undirrala66  17.06          5                 85.30             13.53\n",
      "   Saedue76  13.56          4                 54.24             16.92\n",
      "Mindimnya67  12.74          4                 50.96             16.92\n",
      " Haellysu29  12.73          3                 38.19             22.56\n",
      "     Eoda93  11.58          3                 34.74             22.56\n",
      "---------------------------------------------------------------------------------\n",
      "Totals:      67.67         19                263.43\n",
      "----------------------------------------------------------------------------------\n"
     ]
    }
   ],
   "source": [
    "print(\"         \" + top5Spenders.to_string(index=False))\n",
    "print(\"---------------------------------------------------------------------------------\")\n",
    "print(\"Totals:      \" + str(round(totalTopSpending,2)) + \"         \" + \n",
    "      str(round(top5Spenders[\"Purch Cnt\"].sum(),2))+ \"                \"+\n",
    "      str(round(top5Spenders[\"Total Purchase Value\"].sum(),3)))\n",
    "print(\"----------------------------------------------------------------------------------\")"
   ]
  },
  {
   "cell_type": "code",
   "execution_count": 107,
   "metadata": {},
   "outputs": [],
   "source": [
    "#Identify the 5 most popular items by purchase count, then list (in a table):\n",
    "#Item ID\n",
    "#Item Name\n",
    "#Purchase Count\n",
    "#Item Price\n",
    "#Total Purchase Value\n",
    "df3 = df[[\"Item ID\"]]\n",
    "df3.insert(1,'Purch Cnt',1)\n",
    "df4 = (df3.groupby([\"Item ID\"]).sum().reset_index()).sort_values([\"Purch Cnt\"],ascending=False)\n",
    "top5Items = df.groupby([\"Item ID\",\"Item Name\"]).max().reset_index()\n",
    "top5Items = pd.merge(top5Items,df4).sort_values([\"Purch Cnt\"],ascending=False).head(5)\n",
    "top5Items = top5Items[[\"Item ID\",\"Item Name\",\"Purch Cnt\", \"Price\"]]\n",
    "top5Items.insert(4, \"Total Purchase Value\",top5Items[\"Purch Cnt\"] * top5Items[\"Price\"])"
   ]
  },
  {
   "cell_type": "markdown",
   "metadata": {},
   "source": [
    "# Top 5 Items by Purchase Count"
   ]
  },
  {
   "cell_type": "code",
   "execution_count": 108,
   "metadata": {},
   "outputs": [
    {
     "name": "stdout",
     "output_type": "stream",
     "text": [
      "Item ID                             Item Name  Purch Cnt  Price  Total Purchase Value\n",
      "     39  Betrayal, Whisper of Grieving Widows         11   2.35                 25.85\n",
      "     84                            Arcane Gem         11   2.23                 24.53\n",
      "     31                             Trickster          9   2.07                 18.63\n",
      "    175            Woeful Adamantite Claymore          9   1.24                 11.16\n",
      "     13                              Serenity          9   1.49                 13.41\n",
      "------------------------------------------------------------------------------------------------------\n",
      "                                      TOTALS:         49                        93.58\n",
      "------------------------------------------------------------------------------------------------------\n"
     ]
    }
   ],
   "source": [
    "print (top5Items.to_string(index = False))\n",
    "print (\"------------------------------------------------------------------------------------------------------\")\n",
    "print (\"                                      TOTALS:        \" , str(top5Items[\"Purch Cnt\"].sum())\n",
    "        , \"                      \", str(round(top5Items[\"Total Purchase Value\"].sum(),2)) )\n",
    "print (\"------------------------------------------------------------------------------------------------------\")"
   ]
  },
  {
   "cell_type": "code",
   "execution_count": 109,
   "metadata": {},
   "outputs": [],
   "source": [
    "#Identify the 5 most profitable items by total purchase value, then list (in a table):\n",
    "#Item ID\n",
    "#Item Name\n",
    "#Purchase Count\n",
    "#Item Price\n",
    "#Total Purchase Value\n",
    "df5 = df[[\"Item ID\",\"Item Name\",\"Price\"]].sort_values([\"Price\"], ascending =False).drop_duplicates().head(5)\n",
    "df6 = df[[\"Item ID\"]]\n",
    "df6.insert(1, \"Purch Count\", 1)\n",
    "df6 = df6.groupby([\"Item ID\"],as_index =True).sum().reset_index()\n",
    "top5PurchItems = pd.merge(df5, df6)\n",
    "top5PurchItems.insert(4, \"Purchase Value\", top5PurchItems[\"Price\"] * top5PurchItems[\"Purch Count\"])\n",
    "#top5PurchItems"
   ]
  },
  {
   "cell_type": "markdown",
   "metadata": {},
   "source": [
    "# Top 5 Items by Purchase Value"
   ]
  },
  {
   "cell_type": "code",
   "execution_count": 110,
   "metadata": {},
   "outputs": [
    {
     "name": "stdout",
     "output_type": "stream",
     "text": [
      "Item ID                                 Item Name  Price  Purch Count  Purchase Value\n",
      "     32                                   Orenmir   4.95            6           29.70\n",
      "    177  Winterthorn, Defender of Shifting Worlds   4.89            4           19.56\n",
      "    103                            Singed Scalpel   4.87            6           29.22\n",
      "    173                       Stormfury Longsword   4.83            5           24.15\n",
      "     42                           The Decapitator   4.82            3           14.46\n",
      "------------------------------------------------------------------------------------------------------\n",
      "                             TOTALS:                   24           117.09\n",
      "------------------------------------------------------------------------------------------------------\n"
     ]
    }
   ],
   "source": [
    "print (top5PurchItems.to_string(index = False))\n",
    "print (\"------------------------------------------------------------------------------------------------------\")\n",
    "print (\"                             TOTALS:                  \" , str(top5PurchItems[\"Purch Count\"].sum())\n",
    "        , \"         \", str(round(top5PurchItems[\"Purchase Value\"].sum(),2)) )\n",
    "print (\"------------------------------------------------------------------------------------------------------\")"
   ]
  },
  {
   "cell_type": "markdown",
   "metadata": {},
   "source": [
    "# Conclusion - Based on the data set\n",
    "## Most active gamers are Males between the age of 20 to 25 followed by 25 to 30\n",
    "## Most popular game is Hatred (sad really ;)\n",
    "## When creating a game name certainly matters! "
   ]
  },
  {
   "cell_type": "code",
   "execution_count": null,
   "metadata": {
    "collapsed": true
   },
   "outputs": [],
   "source": []
  }
 ],
 "metadata": {
  "kernelspec": {
   "display_name": "Python [conda env:PythonData]",
   "language": "python",
   "name": "conda-env-PythonData-py"
  }
 },
 "nbformat": 4,
 "nbformat_minor": 2
}
